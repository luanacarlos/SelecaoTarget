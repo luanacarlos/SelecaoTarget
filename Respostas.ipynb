{
  "nbformat": 4,
  "nbformat_minor": 0,
  "metadata": {
    "colab": {
      "provenance": []
    },
    "kernelspec": {
      "name": "python3",
      "display_name": "Python 3"
    },
    "language_info": {
      "name": "python"
    }
  },
  "cells": [
    {
      "cell_type": "markdown",
      "source": [
        "#Questão 1\n",
        "\n",
        "1) Observe o trecho de código abaixo:\n",
        "\n",
        "int INDICE = 13, SOMA = 0, K = 0;\n",
        "\n",
        "enquanto K < INDICE faça\n",
        "\n",
        "{\n",
        "\n",
        "K = K + 1;\n",
        "\n",
        "SOMA = SOMA + K;\n",
        "\n",
        "}\n",
        "\n",
        "imprimir(SOMA);"
      ],
      "metadata": {
        "id": "UTFQwYAtEtvk"
      }
    },
    {
      "cell_type": "code",
      "execution_count": null,
      "metadata": {
        "colab": {
          "base_uri": "https://localhost:8080/"
        },
        "id": "qtopUip6Drfa",
        "outputId": "ac386476-e113-4fe2-900d-c350a3c786c6"
      },
      "outputs": [
        {
          "output_type": "stream",
          "name": "stdout",
          "text": [
            "91\n"
          ]
        }
      ],
      "source": [
        "indice = 13\n",
        "soma = 0\n",
        "k = 0\n",
        "\n",
        "\n",
        "while (k < indice):\n",
        "  k = k+1\n",
        "  soma = soma + k\n",
        "\n",
        "print(soma)"
      ]
    },
    {
      "cell_type": "markdown",
      "source": [
        "#Questão 2\n",
        "2) Dado a sequência de Fibonacci, onde se inicia por 0 e 1 e o próximo valor sempre será a soma dos 2 valores anteriores (exemplo: 0, 1, 1, 2, 3, 5, 8, 13, 21, 34...), escreva um programa na linguagem que desejar onde, informado um número, ele calcule a sequência de Fibonacci e retorne uma mensagem avisando se o número informado pertence ou não a sequência.\n",
        "\n",
        "\n",
        "\n",
        "IMPORTANTE:\n",
        "\n",
        "Esse número pode ser informado através de qualquer entrada de sua preferência ou pode ser previamente definido no código;"
      ],
      "metadata": {
        "id": "IzxTLW80FXHw"
      }
    },
    {
      "cell_type": "code",
      "source": [
        "def fibonacci(n):\n",
        "    \"\"\"\n",
        "    Função que retorna a sequência de Fibonacci até o n-ésimo termo.\n",
        "    \"\"\"\n",
        "    fib = [0, 1]\n",
        "    for i in range(2, n+1):\n",
        "        fib.append(fib[i-1] + fib[i-2])\n",
        "    return fib\n",
        "\n",
        "def verifica_fibonacci(num):\n",
        "    \"\"\"\n",
        "    Função que verifica se um número pertence à sequência de Fibonacci.\n",
        "    \"\"\"\n",
        "    fib = fibonacci(num)\n",
        "    if num in fib:\n",
        "        print(f\"O número {num} pertence à sequência de Fibonacci!\")\n",
        "    else:\n",
        "        print(f\"O número {num} NÃO pertence à sequência de Fibonacci.\")\n",
        "\n",
        "\n",
        "# Exemplo de uso da função verifica_fibonacci()\n",
        "verifica_fibonacci(13)"
      ],
      "metadata": {
        "colab": {
          "base_uri": "https://localhost:8080/"
        },
        "id": "A0UcHK1iErWy",
        "outputId": "96caf0b9-8363-4f36-e00b-41468e5209dd"
      },
      "execution_count": null,
      "outputs": [
        {
          "output_type": "stream",
          "name": "stdout",
          "text": [
            "O número 13 pertence à sequência de Fibonacci!\n"
          ]
        }
      ]
    },
    {
      "cell_type": "markdown",
      "source": [
        "#Questão 3\n",
        "3) Descubra a lógica e complete o próximo elemento:\n",
        "\n",
        "\n",
        "\n",
        "a) 1, 3, 5, 7, ___\n",
        "\n",
        "b) 2, 4, 8, 16, 32, 64, ____\n",
        "\n",
        "c) 0, 1, 4, 9, 16, 25, 36, ____\n",
        "\n",
        "d) 4, 16, 36, 64, ____\n",
        "\n",
        "e) 1, 1, 2, 3, 5, 8, ____\n",
        "\n",
        "f) 2,10, 12, 16, 17, 18, 19, ____"
      ],
      "metadata": {
        "id": "_fb8kqPfFlhh"
      }
    },
    {
      "cell_type": "markdown",
      "source": [
        "##Resposta\n",
        "a)O resultado é o número anterior somado com 2, portanto o próximo número da sequência será 9\n",
        "\n",
        "b)O resultado é o número anterior multiplicado por 2, portanto o próximo número da sequência será 128\n",
        "\n",
        "c)Essa é uma sequência de números quadrados portanto o proximo número será 49\n",
        "\n",
        "d)A sequência apresentada é composta pelos quadrados dos números pares:\n",
        "Portanto, o próximo número será o quadrado do próximo número par , que é 10 é igual a 100\n",
        "\n",
        "e)Essa é a sequência de fibonacci onde se inicia por 0 e 1 e o próximo valor sempre será a soma dos 2 valores anteriores portanto o próximo número será 13\n",
        "\n",
        "f)Aparentemente apartir do quarto número é uma sequência portanto o próximo número seria 20\n",
        "\n"
      ],
      "metadata": {
        "id": "pNuCIDKTFsgq"
      }
    },
    {
      "cell_type": "markdown",
      "source": [
        "#Questão 4\n",
        "Dois veículos (um carro e um caminhão) saem respectivamente de cidades opostas pela mesma rodovia. O carro de Ribeirão Preto em direção a Franca, a uma velocidade constante de 110 km/h e o caminhão de Franca em direção a Ribeirão Preto a uma velocidade constante de 80 km/h. Quando eles se cruzarem na rodovia, qual estará mais próximo a cidade de Ribeirão Preto?\n",
        "\n",
        "\n",
        "\n",
        "IMPORTANTE:\n",
        "\n",
        "a) Considerar a distância de 100km entre a cidade de Ribeirão Preto <-> Franca.\n",
        "\n",
        "b) Considerar 2 pedágios como obstáculo e que o caminhão leva 5 minutos a mais para passar em cada um deles e o carro possui tag de pedágio (Sem Parar)\n",
        "\n",
        "c) Explique como chegou no resultado."
      ],
      "metadata": {
        "id": "lB0hqH3CH7pE"
      }
    },
    {
      "cell_type": "code",
      "source": [],
      "metadata": {
        "id": "bW1FFpfVMK1j"
      },
      "execution_count": null,
      "outputs": []
    },
    {
      "cell_type": "markdown",
      "source": [
        "Quase caí na pegadinha, no assunto de colisões, quando dois corpos se encontram eles tem o mesmo espaço e tempo, portanto ambos estarão à mesma distência de Ribeirão Preto."
      ],
      "metadata": {
        "id": "AOWNA6dtIAI1"
      }
    },
    {
      "cell_type": "markdown",
      "source": [
        "#Questão 5\n",
        "\n",
        "5) Escreva um programa que inverta os caracteres de um string.\n",
        "\n",
        "\n",
        "\n",
        "IMPORTANTE:\n",
        "\n",
        "a) Essa string pode ser informada através de qualquer entrada de sua preferência ou pode ser previamente definida no código;\n",
        "\n",
        "b) Evite usar funções prontas, como, por exemplo, reverse;"
      ],
      "metadata": {
        "id": "eqKHzmasL_V6"
      }
    },
    {
      "cell_type": "code",
      "source": [
        "string = input(\"Digite uma string: \")\n",
        "\n",
        "# Inverte a string\n",
        "string_invertida = \"\"\n",
        "for i in range(len(string)-1, -1, -1):\n",
        "    string_invertida += string[i]\n",
        "\n",
        "# Imprime a string invertida\n",
        "print(\"A string invertida é:\", string_invertida)"
      ],
      "metadata": {
        "id": "iDZyACayML6e",
        "outputId": "17f9594c-c969-4e9b-cf03-1ab163833ce9",
        "colab": {
          "base_uri": "https://localhost:8080/"
        }
      },
      "execution_count": null,
      "outputs": [
        {
          "output_type": "stream",
          "name": "stdout",
          "text": [
            "Digite uma string: string\n",
            "A string invertida é: gnirts\n"
          ]
        }
      ]
    }
  ]
}